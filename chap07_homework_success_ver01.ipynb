{
  "nbformat": 4,
  "nbformat_minor": 0,
  "metadata": {
    "accelerator": "GPU",
    "colab": {
      "name": "chap07_homework.ipynb",
      "provenance": [],
      "collapsed_sections": [],
      "include_colab_link": true
    },
    "kernelspec": {
      "display_name": "Python 3",
      "language": "python",
      "name": "python3"
    },
    "language_info": {
      "codemirror_mode": {
        "name": "ipython",
        "version": 3
      },
      "file_extension": ".py",
      "mimetype": "text/x-python",
      "name": "python",
      "nbconvert_exporter": "python",
      "pygments_lexer": "ipython3",
      "version": "3.7.4"
    }
  },
  "cells": [
    {
      "cell_type": "markdown",
      "metadata": {
        "id": "view-in-github",
        "colab_type": "text"
      },
      "source": [
        "<a href=\"https://colab.research.google.com/github/kid8888/DLLecture/blob/master/chap07_homework_success_ver01.ipynb\" target=\"_parent\"><img src=\"https://colab.research.google.com/assets/colab-badge.svg\" alt=\"Open In Colab\"/></a>"
      ]
    },
    {
      "cell_type": "markdown",
      "metadata": {
        "colab_type": "text",
        "id": "MUWcdth_khfN"
      },
      "source": [
        "# 第7回講義 宿題"
      ]
    },
    {
      "cell_type": "markdown",
      "metadata": {
        "colab_type": "text",
        "id": "gAjuP7I4lWyn"
      },
      "source": [
        "## 課題\n",
        "\n",
        "今Lessonで学んだことに工夫を加えて、CNNでより高精度なCIFAR10の分類器を実装してみましょう。精度上位者はリーダーボードに載ります。"
      ]
    },
    {
      "cell_type": "markdown",
      "metadata": {
        "colab_type": "text",
        "id": "Cpiz19GRlZ_9"
      },
      "source": [
        "### 目標値\n",
        "\n",
        "Accuracy 78%"
      ]
    },
    {
      "cell_type": "markdown",
      "metadata": {
        "colab_type": "text",
        "id": "qSHeI_utleEN"
      },
      "source": [
        "### ルール\n",
        "\n",
        "- 訓練データはx_train、 t_train、テストデータはx_testで与えられます。\n",
        "- 予測ラベルは one_hot表現ではなく0~9のクラスラベル で表してください。\n",
        "- **下のセルで指定されているx_train、t_train以外の学習データは使わないでください。**\n",
        "- 今回から基本的にAPI制限はありません。\n",
        "- ただしtorchvision等の既存モデルや、学習済みモデルは用いないでください。"
      ]
    },
    {
      "cell_type": "markdown",
      "metadata": {
        "colab_type": "text",
        "id": "diuec-_YluI6"
      },
      "source": [
        "### 提出方法\n",
        "\n",
        "- 2つのファイルを提出していただきます。\n",
        "  - テストデータ (x_test) に対する予測ラベルをcsvファイル (ファイル名: submission_pred.csv) で提出してください。\n",
        "  - それに対応するpythonのコードをsubmission_code.pyとして提出してください (%%writefileコマンドなどを利用してください)。"
      ]
    },
    {
      "cell_type": "markdown",
      "metadata": {
        "colab_type": "text",
        "id": "hofSzJsVlvKp"
      },
      "source": [
        "### 評価方法\n",
        "\n",
        "- 予測ラベルのt_testに対する精度 (Accuracy) で評価します。\n",
        "- 毎日夜24時にテストデータの一部に対する精度でLeader Boardを更新します。\n",
        "- 締切日の夜24時にテストデータ全体に対する精度でLeader Boardを更新します。これを最終的な評価とします。"
      ]
    },
    {
      "cell_type": "markdown",
      "metadata": {
        "colab_type": "text",
        "id": "Cu4cmQtelx19"
      },
      "source": [
        "### データの読み込み\n",
        "\n",
        "- この部分は修正しないでください"
      ]
    },
    {
      "cell_type": "code",
      "metadata": {
        "id": "pZhmt3e360L2",
        "colab_type": "code",
        "outputId": "a7967455-e5ad-422b-887c-419c59152b33",
        "colab": {
          "base_uri": "https://localhost:8080/",
          "height": 125
        }
      },
      "source": [
        "from google.colab import drive\n",
        "drive.mount('/content/drive')"
      ],
      "execution_count": 0,
      "outputs": [
        {
          "output_type": "stream",
          "text": [
            "Go to this URL in a browser: https://accounts.google.com/o/oauth2/auth?client_id=947318989803-6bn6qk8qdgf4n4g3pfee6491hc0brc4i.apps.googleusercontent.com&redirect_uri=urn%3aietf%3awg%3aoauth%3a2.0%3aoob&response_type=code&scope=email%20https%3a%2f%2fwww.googleapis.com%2fauth%2fdocs.test%20https%3a%2f%2fwww.googleapis.com%2fauth%2fdrive%20https%3a%2f%2fwww.googleapis.com%2fauth%2fdrive.photos.readonly%20https%3a%2f%2fwww.googleapis.com%2fauth%2fpeopleapi.readonly\n",
            "\n",
            "Enter your authorization code:\n",
            "··········\n",
            "Mounted at /content/drive\n"
          ],
          "name": "stdout"
        }
      ]
    },
    {
      "cell_type": "code",
      "metadata": {
        "id": "0DUHu-EM7IkN",
        "colab_type": "code",
        "colab": {}
      },
      "source": [
        "import os\n",
        "os.chdir('/content/drive/My Drive/Colab Notebooks/dlbasic/')"
      ],
      "execution_count": 0,
      "outputs": []
    },
    {
      "cell_type": "code",
      "metadata": {
        "colab_type": "code",
        "id": "EsLDDSUJkRx-",
        "colab": {}
      },
      "source": [
        "import numpy as np\n",
        "import pandas as pd\n",
        "import torch\n",
        "from torchvision import transforms\n",
        "from tqdm import tqdm_notebook as tqdm\n",
        "from PIL import Image\n",
        "from sklearn.model_selection import train_test_split\n",
        "\n",
        "#学習データ\n",
        "x_trainval = np.load('chap07/data/x_train.npy')\n",
        "t_trainval = np.load('chap07/data/t_train.npy')\n",
        "    \n",
        "#テストデータ\n",
        "x_test = np.load('chap07/data/x_test.npy')\n",
        "\n",
        "\n",
        "class train_dataset(torch.utils.data.Dataset):\n",
        "    def __init__(self, x_data, t_data, transform=transforms.ToTensor()):\n",
        "        self.x_data = x_data.astype('float32') / 255\n",
        "        self.t_data = t_data\n",
        "        self.transform = transform\n",
        "        self.x_data_pil = []\n",
        "        for image in x_data:\n",
        "            self.x_data_pil.append(Image.fromarray(np.uint8(image)))\n",
        "\n",
        "    def __len__(self):\n",
        "        return self.x_data.shape[0]\n",
        "\n",
        "    def __getitem__(self, idx):\n",
        "        return self.transform(self.x_data_pil[idx]), torch.tensor(self.t_data[idx], dtype=torch.long)\n",
        "\n",
        "class test_dataset(torch.utils.data.Dataset):\n",
        "    def __init__(self, x_data, transform=transforms.ToTensor()):\n",
        "        self.x_data = x_data.astype('float32') / 255\n",
        "        self.transform = transform\n",
        "        self.x_data_pil = []\n",
        "        for image in x_data:\n",
        "            self.x_data_pil.append(Image.fromarray(np.uint8(image)))\n",
        "\n",
        "    def __len__(self):\n",
        "        return self.x_data.shape[0]\n",
        "\n",
        "    def __getitem__(self, idx):\n",
        "        return self.transform(self.x_data_pil[idx])"
      ],
      "execution_count": 0,
      "outputs": []
    },
    {
      "cell_type": "markdown",
      "metadata": {
        "colab_type": "text",
        "id": "UrSpHDIWOfK_"
      },
      "source": [
        "### 畳み込みニューラルネットワーク(CNN)の実装"
      ]
    },
    {
      "cell_type": "code",
      "metadata": {
        "colab_type": "code",
        "id": "sKAe0F36nSvU",
        "outputId": "54899fa0-1239-48dc-de33-1fd0b10bbf92",
        "colab": {
          "base_uri": "https://localhost:8080/",
          "height": 122
        }
      },
      "source": [
        "from torchvision import datasets, transforms, models\n",
        "\n",
        "x_train, x_valid, t_train, t_valid = train_test_split(x_trainval, t_trainval, test_size=0.1)\n",
        "train_data = train_dataset(x_train, t_train)\n",
        "valid_data = train_dataset(x_valid, t_valid)\n",
        "test_data = test_dataset(x_test)\n",
        "\n",
        "# .npy型のデータを読み込む関係で演習の時とは処理が多少変わっていますが、\n",
        "# 本質的な計算処理は変わりません。\n",
        "\n",
        "class ZCAWhitening():\n",
        "    def __init__(self, epsilon=1e-4, device=\"cuda\"):  # 計算が重いのでGPUを用いる\n",
        "        self.epsilon = epsilon\n",
        "        self.device = device\n",
        "\n",
        "    def fit(self, images):  # 変換行列と平均をデータから計算\n",
        "        x = torch.tensor(images[0].reshape(1, -1))\n",
        "        self.mean = torch.zeros([1, x.size()[1]]).to(self.device)\n",
        "        con_matrix = torch.zeros([x.size()[1], x.size()[1]]).to(self.device)\n",
        "        for i in range(len(images)):  # 各データについての平均を取る\n",
        "            x = torch.tensor(images[i].reshape(1, -1)).to(self.device)\n",
        "            self.mean += x / len(images)\n",
        "            con_matrix += torch.mm(x.t(), x) / len(images)\n",
        "            if i % 10000 == 0:\n",
        "                print(\"{0}/{1}\".format(i, len(images)))\n",
        "        E, V = torch.symeig(con_matrix, eigenvectors=True)  # 固有値分解\n",
        "        self.ZCA_matrix = torch.mm(torch.mm(V, torch.diag((E.squeeze()+self.epsilon)**(-0.5))), V.t())\n",
        "        print(\"completed!\")\n",
        "\n",
        "    def __call__(self, x):\n",
        "        size = x.size()\n",
        "        x = x.reshape(1, -1).to(self.device)\n",
        "        x -= self.mean\n",
        "        x = torch.mm(x, self.ZCA_matrix.t())\n",
        "        x = x.reshape(tuple(size))\n",
        "        x = x.to(\"cpu\")\n",
        "        return x\n",
        "\n",
        "zca = ZCAWhitening()\n",
        "zca.fit(train_data.x_data)\n",
        "\n",
        "# 前処理を定義\n",
        "transform_train = transforms.Compose([transforms.RandomCrop(32, padding=(4, 4, 4, 4), padding_mode='constant'),\n",
        "                                      transforms.RandomHorizontalFlip(p=0.5),\n",
        "                                      transforms.ToTensor(),\n",
        "                                      zca\n",
        "                                      ])\n",
        "\n",
        "transform = transforms.Compose([transforms.ToTensor(),\n",
        "                                zca\n",
        "                                ])\n",
        "\n",
        "train_data.transform = transform_train\n",
        "valid_data.transform = transform\n",
        "test_data.transform = transform\n",
        "\n",
        "batch_size = 50\n",
        "\n",
        "dataloader_train = torch.utils.data.DataLoader(\n",
        "    train_data,\n",
        "    batch_size=batch_size,\n",
        "    shuffle=True\n",
        ")\n",
        "\n",
        "dataloader_valid = torch.utils.data.DataLoader(\n",
        "    valid_data,\n",
        "    batch_size=batch_size,\n",
        "    shuffle=False\n",
        ")\n",
        "\n",
        "dataloader_test = torch.utils.data.DataLoader(\n",
        "    test_data,\n",
        "    batch_size=batch_size,\n",
        "    shuffle=False\n",
        ")"
      ],
      "execution_count": 0,
      "outputs": [
        {
          "output_type": "stream",
          "text": [
            "0/45000\n",
            "10000/45000\n",
            "20000/45000\n",
            "30000/45000\n",
            "40000/45000\n",
            "completed!\n"
          ],
          "name": "stdout"
        }
      ]
    },
    {
      "cell_type": "code",
      "metadata": {
        "colab_type": "code",
        "id": "PADQiKNa2snb",
        "colab": {}
      },
      "source": [
        "import torch.nn as nn\n",
        "import torch.optim as optim\n",
        "import torch.autograd as autograd\n",
        "import torch.nn.functional as F\n",
        "\n",
        "rng = np.random.RandomState(1234)\n",
        "random_state = 42\n",
        "device = torch.device(\"cuda\" if torch.cuda.is_available() else \"cpu\")\n",
        "\n",
        "# WRITE ME\n",
        "conv_net = nn.Sequential(\n",
        "    nn.Conv2d(3, 16, 3, stride=1,padding=1),              # 32x32x3 -> 30x30x32\n",
        "    nn.Conv2d(16, 32, 1, stride=1,padding=1),\n",
        "    nn.Conv2d(32, 64, 1, stride=1,padding=1),\n",
        "    nn.Conv2d(64, 128, 3, stride=1,padding=1),\n",
        "    nn.Conv2d(128, 256, 3),\n",
        "    nn.BatchNorm2d(256),\n",
        "    nn.ReLU(),\n",
        "    nn.AvgPool2d(2),                  # 30x30x32 -> 15x15x32\n",
        "    nn.Conv2d(256, 512, 3),             # 15x15x32 -> 13x13x64\n",
        "    nn.BatchNorm2d(512),\n",
        "    nn.ReLU(),\n",
        "    nn.AvgPool2d(2),                  # 13x13x64 -> 6x6x64\n",
        "    nn.Conv2d(512, 1024, 3),            # 6x6x64 -> 4x4x128\n",
        "    nn.BatchNorm2d(1024),\n",
        "    nn.ReLU(),\n",
        "    nn.AvgPool2d(2),                  # 4x4x128 -> 2x2x128\n",
        "    nn.Flatten(),\n",
        "    nn.Linear(2*2*1024, 2048),\n",
        "    nn.ReLU(),\n",
        "    nn.Linear(2048, 10)\n",
        ")\n",
        "\n",
        "\n",
        "def init_weights(m):  # Heの初期化\n",
        "    if type(m) == nn.Linear or type(m) == nn.Conv2d:\n",
        "        torch.nn.init.kaiming_normal_(m.weight)\n",
        "        m.bias.data.fill_(0.0)\n",
        "\n",
        "\n",
        "conv_net.apply(init_weights)\n",
        "\n",
        "\n",
        "n_epochs = 20\n",
        "lr = 0.01\n",
        "device = 'cuda'\n",
        "\n",
        "conv_net.to(device)\n",
        "optimizer = optim.Adam(conv_net.parameters(), lr=lr) # WRITE ME\n",
        "loss_function =  nn.CrossEntropyLoss() # WRITE ME"
      ],
      "execution_count": 0,
      "outputs": []
    },
    {
      "cell_type": "code",
      "metadata": {
        "colab_type": "code",
        "id": "nlOZuLu-328i",
        "outputId": "2969f6fe-c34e-4250-ad65-288c3783027f",
        "colab": {
          "base_uri": "https://localhost:8080/",
          "height": 193
        }
      },
      "source": [
        "for epoch in range(n_epochs):\n",
        "    losses_train = []\n",
        "    losses_valid = []\n",
        "\n",
        "    conv_net.train()\n",
        "    n_train = 0\n",
        "    acc_train = 0\n",
        "    for x, t in dataloader_train:\n",
        "        # WRITE ME\n",
        "        n_train += t.size()[0]\n",
        "        conv_net.zero_grad()  # 勾配の初期化\n",
        "        x = x.to(device)  # テンソルをGPUに移動\n",
        "        t = t.to(device)\n",
        "        y = conv_net.forward(x)  # 順伝播\n",
        "        loss = loss_function(y, t)  # 誤差(クロスエントロピー誤差関数)の計算\n",
        "        loss.backward()  # 誤差の逆伝播\n",
        "        optimizer.step()  # パラメータの更新\n",
        "        pred = y.argmax(1)  # 最大値を取るラベルを予測ラベルとする\n",
        "        acc_train += (pred == t).float().sum().item()\n",
        "        losses_train.append(loss.tolist())\n",
        "\n",
        "    conv_net.eval()\n",
        "    n_val = 0\n",
        "    acc_val = 0\n",
        "    for x, t in dataloader_valid:\n",
        "        # WRITE ME\n",
        "        n_val += t.size()[0]\n",
        "        x = x.to(device)  # テンソルをGPUに移動\n",
        "        t = t.to(device)\n",
        "        y = conv_net.forward(x)  # 順伝播\n",
        "        loss = loss_function(y, t)  # 誤差(クロスエントロピー誤差関数)の計算\n",
        "        pred = y.argmax(1)  # 最大値を取るラベルを予測ラベルとする\n",
        "        acc_val += (pred == t).float().sum().item()\n",
        "        losses_valid.append(loss.tolist())\n",
        "\n",
        "    print('EPOCH: {}, Train [Loss: {:.3f}, Accuracy: {:.3f}], Valid [Loss: {:.3f}, Accuracy: {:.3f}]'.format(\n",
        "        epoch,\n",
        "        np.mean(losses_train),\n",
        "        acc_train/n_train,\n",
        "        np.mean(losses_valid),\n",
        "        acc_val/n_val\n",
        "    ))\n",
        "\n",
        "\n",
        "if loss.is_nan():\n",
        "    print(\"something\")# for debug\n",
        "    import sys\n",
        "    sys.exit()"
      ],
      "execution_count": 0,
      "outputs": [
        {
          "output_type": "stream",
          "text": [
            "EPOCH: 0, Train [Loss: 2.636, Accuracy: 0.240], Valid [Loss: 1.774, Accuracy: 0.361]\n",
            "EPOCH: 1, Train [Loss: 1.486, Accuracy: 0.466], Valid [Loss: 1.305, Accuracy: 0.541]\n",
            "EPOCH: 2, Train [Loss: 1.187, Accuracy: 0.580], Valid [Loss: 1.134, Accuracy: 0.599]\n",
            "EPOCH: 3, Train [Loss: 1.055, Accuracy: 0.632], Valid [Loss: 0.999, Accuracy: 0.645]\n",
            "EPOCH: 4, Train [Loss: 0.953, Accuracy: 0.670], Valid [Loss: 1.063, Accuracy: 0.650]\n",
            "EPOCH: 5, Train [Loss: 0.897, Accuracy: 0.691], Valid [Loss: 0.943, Accuracy: 0.677]\n",
            "EPOCH: 6, Train [Loss: 0.846, Accuracy: 0.710], Valid [Loss: 0.906, Accuracy: 0.694]\n",
            "EPOCH: 7, Train [Loss: 0.812, Accuracy: 0.723], Valid [Loss: 0.800, Accuracy: 0.726]\n",
            "EPOCH: 8, Train [Loss: 0.773, Accuracy: 0.736], Valid [Loss: 0.771, Accuracy: 0.747]\n",
            "EPOCH: 9, Train [Loss: 0.738, Accuracy: 0.749], Valid [Loss: 0.799, Accuracy: 0.734]\n"
          ],
          "name": "stdout"
        }
      ]
    },
    {
      "cell_type": "code",
      "metadata": {
        "colab_type": "code",
        "id": "Yq3scS5j4Rt2",
        "colab": {}
      },
      "source": [
        "conv_net.eval()\n",
        "\n",
        "t_pred = []\n",
        "for x in dataloader_test:\n",
        "\n",
        "    x = x.to(device)\n",
        "\n",
        "    # 順伝播\n",
        "    y = conv_net.forward(x)\n",
        "\n",
        "    # モデルの出力を予測値のスカラーに変換\n",
        "    pred = y.argmax(1).tolist()\n",
        "\n",
        "    t_pred.extend(pred)\n",
        "\n",
        "submission = pd.Series(t_pred, name='label')\n",
        "submission.to_csv('chap07/materials/submission_pred.csv', header=True, index_label='id')"
      ],
      "execution_count": 0,
      "outputs": []
    },
    {
      "cell_type": "code",
      "metadata": {
        "colab_type": "code",
        "id": "73f8DjqTCoTL",
        "colab": {}
      },
      "source": [
        ""
      ],
      "execution_count": 0,
      "outputs": []
    }
  ]
}